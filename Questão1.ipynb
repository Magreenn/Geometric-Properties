{
 "cells": [
  {
   "cell_type": "markdown",
   "id": "d6fea5c3",
   "metadata": {
    "toc": true
   },
   "source": [
    "<h1>Table of Contents<span class=\"tocSkip\"></span></h1>\n",
    "<div class=\"toc\"><ul class=\"toc-item\"><li><span><a href=\"#Definição-da-Geometria\" data-toc-modified-id=\"Definição-da-Geometria-1\"><span class=\"toc-item-num\">1&nbsp;&nbsp;</span>Definição da Geometria</a></span><ul class=\"toc-item\"><li><span><a href=\"#Dados-da-seção\" data-toc-modified-id=\"Dados-da-seção-1.1\"><span class=\"toc-item-num\">1.1&nbsp;&nbsp;</span>Dados da seção</a></span></li></ul></li><li><span><a href=\"#Discretização-dos-segmentos-que-formam-a-seção\" data-toc-modified-id=\"Discretização-dos-segmentos-que-formam-a-seção-2\"><span class=\"toc-item-num\">2&nbsp;&nbsp;</span>Discretização dos segmentos que formam a seção</a></span></li><li><span><a href=\"#Centroide-da-Seção\" data-toc-modified-id=\"Centroide-da-Seção-3\"><span class=\"toc-item-num\">3&nbsp;&nbsp;</span>Centroide da Seção</a></span></li><li><span><a href=\"#Propriedade-das-Áreas-Planas\" data-toc-modified-id=\"Propriedade-das-Áreas-Planas-4\"><span class=\"toc-item-num\">4&nbsp;&nbsp;</span>Propriedade das Áreas Planas</a></span></li><li><span><a href=\"#Propriedades-Setoriais\" data-toc-modified-id=\"Propriedades-Setoriais-5\"><span class=\"toc-item-num\">5&nbsp;&nbsp;</span>Propriedades Setoriais</a></span></li><li><span><a href=\"#Função-de-Definição-das-Propriedades-Da-Seção\" data-toc-modified-id=\"Função-de-Definição-das-Propriedades-Da-Seção-6\"><span class=\"toc-item-num\">6&nbsp;&nbsp;</span>Função de Definição das Propriedades Da Seção</a></span></li><li><span><a href=\"#Conclusão\" data-toc-modified-id=\"Conclusão-7\"><span class=\"toc-item-num\">7&nbsp;&nbsp;</span>Conclusão</a></span></li><li><span><a href=\"#Questão-1\" data-toc-modified-id=\"Questão-1-8\"><span class=\"toc-item-num\">8&nbsp;&nbsp;</span>Questão 1</a></span><ul class=\"toc-item\"><li><span><a href=\"#a)-Perfil-Cantoneira-de-abas-desiguais-L100x50x2-(mm)\" data-toc-modified-id=\"a)-Perfil-Cantoneira-de-abas-desiguais-L100x50x2-(mm)-8.1\"><span class=\"toc-item-num\">8.1&nbsp;&nbsp;</span>a) Perfil Cantoneira de abas desiguais L100x50x2 (mm)</a></span></li><li><span><a href=\"#b)-Perfil-Ue-200x100x20x2-(mm)\" data-toc-modified-id=\"b)-Perfil-Ue-200x100x20x2-(mm)-8.2\"><span class=\"toc-item-num\">8.2&nbsp;&nbsp;</span>b) Perfil Ue 200x100x20x2 (mm)</a></span></li><li><span><a href=\"#c)-Perfil-Rack-100x30x20x25x2-ângulo-de-60º-(mm)\" data-toc-modified-id=\"c)-Perfil-Rack-100x30x20x25x2-ângulo-de-60º-(mm)-8.3\"><span class=\"toc-item-num\">8.3&nbsp;&nbsp;</span>c) Perfil Rack 100x30x20x25x2 ângulo de 60º (mm)</a></span></li><li><span><a href=\"#d)-Perfil-Assimétrico\" data-toc-modified-id=\"d)-Perfil-Assimétrico-8.4\"><span class=\"toc-item-num\">8.4&nbsp;&nbsp;</span>d) Perfil Assimétrico</a></span></li><li><span><a href=\"#Conclusão\" data-toc-modified-id=\"Conclusão-8.5\"><span class=\"toc-item-num\">8.5&nbsp;&nbsp;</span>Conclusão</a></span></li></ul></li><li><span><a href=\"#Questão-2\" data-toc-modified-id=\"Questão-2-9\"><span class=\"toc-item-num\">9&nbsp;&nbsp;</span>Questão 2</a></span><ul class=\"toc-item\"><li><span><a href=\"#a)\" data-toc-modified-id=\"a)-9.1\"><span class=\"toc-item-num\">9.1&nbsp;&nbsp;</span>a)</a></span></li></ul></li></ul></div>"
   ]
  },
  {
   "cell_type": "markdown",
   "id": "6c852d24",
   "metadata": {},
   "source": [
    "<a rel=\"license\" href=\"http://creativecommons.org/licenses/by-sa/3.0/br/\"><img alt=\"Licença Creative Commons\" style=\"border-width:0\" src=\"https://i.creativecommons.org/l/by-sa/3.0/br/88x31.png\" /></a><br />Este obra está licenciado com uma Licença <a rel=\"license\" href=\"http://creativecommons.org/licenses/by-sa/3.0/br/\">Creative Commons Atribuição-CompartilhaIgual 3.0 Brasil</a>.\n",
    "<img src=\"https://github.com/Magreenn/nbinteract-server/blob/main/Tecnicas/img/Logo-Poli_colorida_horizontal.png?raw=true\" width=700 />\n",
    "\n",
    "---\n",
    "\n",
    "# *Trabalho de Cálculo de Propriedades Geométricas de Seções Abertas de Paredes Finas*<a class=\"tocSkip\"> </a>\n",
    "\n",
    "## *EEA 528 - Estruturas de Aço II*<a class=\"tocSkip\"> </a>\n",
    "\n",
    "###### João Pedro Nunes Cavalcante  DRE: 116082493<a class=\"tocSkip\"> </a>\n",
    "\n",
    "---"
   ]
  },
  {
   "cell_type": "markdown",
   "id": "41ce0bf9",
   "metadata": {},
   "source": [
    "#####  Algumas Bibliotecas utilizadas ao longo deste código"
   ]
  },
  {
   "cell_type": "code",
   "execution_count": 1,
   "id": "6b535336",
   "metadata": {},
   "outputs": [],
   "source": [
    "import numpy as np\n",
    "import matplotlib.pyplot as plt\n",
    "# from jupyterthemes import jtplot as jt\n",
    "from scipy.integrate import quad\n",
    "from ipywidgets import Layout, FloatText, interactive\n",
    "# jt.style(theme=\"gruvboxd\")"
   ]
  },
  {
   "cell_type": "markdown",
   "id": "67b0c1ce",
   "metadata": {},
   "source": [
    "# Definição da Geometria"
   ]
  },
  {
   "cell_type": "markdown",
   "id": "696379f4",
   "metadata": {},
   "source": [
    "## Dados da seção"
   ]
  },
  {
   "cell_type": "code",
   "execution_count": 2,
   "id": "41769de5",
   "metadata": {
    "cell_style": "split"
   },
   "outputs": [],
   "source": [
    "Nodes = np.array([\n",
    "    #  unit = mm\n",
    "    #  [X coord, Y coord]\n",
    "    [67.300, 83.650],\n",
    "    [67.300, 90.475],\n",
    "    [67.300, 97.300],\n",
    "    [50.475, 97.300],\n",
    "    [33.650, 97.300],\n",
    "    [16.825, 97.300],\n",
    "    [0.000, 97.300],\n",
    "    [0.000, 81.083],\n",
    "    [0.000, 64.867],\n",
    "    [0.000, 48.650],\n",
    "    [0.000, 32.433],\n",
    "    [0.000, 16.217],\n",
    "    [0.000, 0.000],\n",
    "    [16.825, 0.000],\n",
    "    [33.650, 0.000],\n",
    "    [50.475, 0.000],\n",
    "    [67.300, 0.000],\n",
    "    [67.300, 6.825],\n",
    "    [67.300, 13.650]])"
   ]
  },
  {
   "cell_type": "code",
   "execution_count": 3,
   "id": "0f757f62",
   "metadata": {
    "cell_style": "split",
    "code_folding": [],
    "hide_input": true,
    "scrolled": false
   },
   "outputs": [
    {
     "data": {
      "image/png": "[encoded data removed]",
      "text/plain": [
       "<Figure size 950x950 with 1 Axes>"
      ]
     },
     "metadata": {},
     "output_type": "display_data"
    }
   ],
   "source": [
    "plt.figure(figsize=(9.5, 9.5))\n",
    "plt.plot(Nodes[:, 0], Nodes[:, 1], marker=\"o\")\n",
    "plt.gca().set_aspect('equal')\n",
    "for i in range(0, len(Nodes)):\n",
    "    plt.text(Nodes[i, 0]+.5, Nodes[i, 1]+.5, i, fontsize=12)"
   ]
  },
  {
   "cell_type": "code",
   "execution_count": 4,
   "id": "245bcce9",
   "metadata": {},
   "outputs": [],
   "source": [
    "t = 2.7  # thickness"
   ]
  },
  {
   "cell_type": "markdown",
   "id": "c6bb420f",
   "metadata": {},
   "source": [
    "# Discretização dos segmentos que formam a seção"
   ]
  },
  {
   "cell_type": "markdown",
   "id": "f3d6b848",
   "metadata": {
    "cell_style": "split",
    "hide_input": true
   },
   "source": [
    "<img src=\"Screenshot_1.jpg\" width=410 />"
   ]
  },
  {
   "cell_type": "markdown",
   "id": "66fe0993",
   "metadata": {
    "cell_style": "split"
   },
   "source": [
    "$i$ $-$ Nó inicial;  \n",
    "$j$ $-$ Nó final;  \n",
    "$c$ $-$ Centroide;  \n",
    "$s$ $-$ Direção do eixo local;  \n",
    "$x_{i},y_{i}$ $-$ Coordenadas do nó inicial;  \n",
    "$x_{j},y_{j}$ $-$ Coordenadas do nó final;  \n",
    "$x_{c},y_{c}$ $-$ Coordenadas do centroide;  \n",
    "$\\theta$ $-$ Ângulo que o segmento faz com o eixo $x$ em relação ao eixo local $s$;  \n",
    "$l$ $-$ Comprimento do segmento;  \n",
    "$t$ $-$ Espessura do segmento;   "
   ]
  },
  {
   "cell_type": "markdown",
   "id": "5d1a3eb7",
   "metadata": {},
   "source": [
    "# Centroide da Seção"
   ]
  },
  {
   "cell_type": "code",
   "execution_count": 5,
   "id": "92a25688",
   "metadata": {
    "cell_style": "center"
   },
   "outputs": [],
   "source": [
    "def Centroide(Nodes):\n",
    "    return np.sum([np.sqrt(np.sum((Nodes[i]-Nodes[i+1])**2))*(Nodes[i]+Nodes[i+1])/2 for i in range(len(Nodes)-1)], axis=0)/\\\n",
    "        np.sum([np.sqrt(np.sum((Nodes[i]-Nodes[i+1])**2)) for i in range(len(Nodes)-1)])"
   ]
  },
  {
   "cell_type": "markdown",
   "id": "41f47f3b",
   "metadata": {},
   "source": [
    "##### Calculando o Centroide dessa seção"
   ]
  },
  {
   "cell_type": "code",
   "execution_count": 6,
   "id": "8507c18b",
   "metadata": {
    "cell_style": "center"
   },
   "outputs": [
    {
     "name": "stdout",
     "output_type": "stream",
     "text": [
      "[24.56242284 48.65      ]\n"
     ]
    }
   ],
   "source": [
    "c = Centroide(Nodes)\n",
    "print(c)"
   ]
  },
  {
   "cell_type": "code",
   "execution_count": 7,
   "id": "fbcf3b33",
   "metadata": {
    "cell_style": "split",
    "code_folding": [
     5
    ],
    "hide_input": true,
    "scrolled": false
   },
   "outputs": [
    {
     "data": {
      "image/png": "[encoded data removed]",
      "text/plain": [
       "<Figure size 900x900 with 1 Axes>"
      ]
     },
     "metadata": {},
     "output_type": "display_data"
    }
   ],
   "source": [
    "plt.figure(figsize=(9, 9))\n",
    "plt.plot(Nodes[:, 0], Nodes[:, 1], marker=\"o\")\n",
    "plt.gca().set_aspect('equal')\n",
    "c_coord = Centroide(Nodes)\n",
    "plt.scatter(c_coord[0], c_coord[1], color=\"Red\")\n",
    "plt.text(c_coord[0]+.5, c_coord[1]+.5, \"Centroid\", fontsize=12)\n",
    "for i in range(0, len(Nodes)):\n",
    "    plt.text(Nodes[i, 0]+.5, Nodes[i, 1]+.5, i, fontsize=12)"
   ]
  },
  {
   "cell_type": "markdown",
   "id": "02802509",
   "metadata": {},
   "source": [
    "# Propriedade das Áreas Planas"
   ]
  },
  {
   "cell_type": "code",
   "execution_count": 8,
   "id": "3fd4fd0e",
   "metadata": {},
   "outputs": [],
   "source": [
    "def Inercia(Nodes, t):\n",
    "    c = Centroide(Nodes)\n",
    "    L = np.array([np.sqrt(np.sum((Nodes[i]-Nodes[i+1])**2))\n",
    "                 for i in range(len(Nodes)-1)])\n",
    "    trig = np.array([(Nodes[i+1]-Nodes[i])/L[i] for i in range(len(Nodes)-1)])\n",
    "    A = L*t\n",
    "    A_sec = np.sum(A)\n",
    "    cos = trig[:, 0]\n",
    "    sen = trig[:, 1]\n",
    "    Ix = np.sum([(1/24)*(t*L[i]**3 + L[i]*t**3) + (1/24)*(t*L[i]**3 - L[i]*t**3)*(sen[i] **\n",
    "                2 - cos[i]**2) + (1/4)*A[i]*(Nodes[i][1]+Nodes[i+1][1])**2 for i in range(len(Nodes)-1)])\n",
    "    Iy = np.sum([(1/24)*(t*L[i]**3 + L[i]*t**3) - (1/24)*(t*L[i]**3 - L[i]*t**3)*(sen[i] **\n",
    "                2 - cos[i]**2) + (1/4)*A[i]*(Nodes[i][0]+Nodes[i+1][0])**2 for i in range(len(Nodes)-1)])\n",
    "    Ixy = np.sum([(1/24)*(t*L[i]**3 - L[i]*t**3)*2*sen[i]*cos[i] + (1/4)*A[i]*(Nodes[i]\n",
    "                 [0]+Nodes[i+1][0])*(Nodes[i][1]+Nodes[i+1][1]) for i in range(len(Nodes)-1)])\n",
    "    J = (1/3)*np.sum(L*t**3)\n",
    "    return A_sec, J, Ix, Iy, Ixy, c[0], c[1]"
   ]
  },
  {
   "cell_type": "markdown",
   "id": "857eb2c0",
   "metadata": {
    "hide_input": true
   },
   "source": [
    "##### Teste"
   ]
  },
  {
   "cell_type": "code",
   "execution_count": 9,
   "id": "1a97d077",
   "metadata": {
    "cell_style": "center",
    "scrolled": false
   },
   "outputs": [
    {
     "data": {
      "text/plain": [
       "(699.84,\n",
       " 1700.6111999999998,\n",
       " 2854118.7616499993,\n",
       " 882736.5316499999,\n",
       " 836282.1158999999,\n",
       " 24.56242283950617,\n",
       " 48.649999999999984)"
      ]
     },
     "execution_count": 9,
     "metadata": {},
     "output_type": "execute_result"
    }
   ],
   "source": [
    "Inercia(Nodes, t)"
   ]
  },
  {
   "cell_type": "markdown",
   "id": "6f6fb94e",
   "metadata": {},
   "source": [
    "# Propriedades Setoriais"
   ]
  },
  {
   "cell_type": "code",
   "execution_count": 10,
   "id": "14cc3cdd",
   "metadata": {},
   "outputs": [],
   "source": [
    "def Inercias_setoriais(Nodes, t, x_a=0, y_a=0):\n",
    "    L = np.array([np.sqrt(np.sum((Nodes[i]-Nodes[i+1])**2))\n",
    "                 for i in range(len(Nodes)-1)])\n",
    "    trig = np.array([(Nodes[i+1]-Nodes[i])/L[i] for i in range(len(Nodes)-1)])\n",
    "    A = L*t\n",
    "    A_sec = np.sum(A)\n",
    "    cos = trig[:, 0]\n",
    "    sen = trig[:, 1]\n",
    "\n",
    "    def func1(i):\n",
    "        def func(s):\n",
    "            return (cos[i]*s + Nodes[i][0] - x_a)*sen[i] - (sen[i]*s + Nodes[i][1] - y_a)*cos[i]\n",
    "        return func\n",
    "    w = np.array([quad(func1(i), 0, L[i])[0] for i in range(len(L))]).cumsum()\n",
    "    w_list = np.insert(w, 0, 0)\n",
    "\n",
    "    def func(i):\n",
    "        def func0(s):\n",
    "            return s*(w_list[i+1]-w_list[i])/L[i] + w_list[i]\n",
    "\n",
    "        def func1(s):\n",
    "            return (s*(w_list[i+1]-w_list[i])/L[i] + w_list[i])*(cos[i]*s+Nodes[i][0])\n",
    "\n",
    "        def func2(s):\n",
    "            return (s*(w_list[i+1]-w_list[i])/L[i] + w_list[i])*(sen[i]*s+Nodes[i][1])\n",
    "\n",
    "        def func3(s):\n",
    "            return (s*(w_list[i+1]-w_list[i])/L[i] + w_list[i])**2\n",
    "\n",
    "        def func4(s):\n",
    "            return ((cos[i]*s + Nodes[i][0] - x_a)*sen[i] - (sen[i]*s + Nodes[i][1] - y_a)*cos[i])**2\n",
    "        return func0, func1, func2, func3, func4\n",
    "    Qwa = t*np.sum([quad(func(i)[0], 0, L[i])[0] for i in range(len(L))])\n",
    "    Ixwa = t*np.sum([quad(func(i)[1], 0, L[i])[0] for i in range(len(L))])\n",
    "    Iywa = t*np.sum([quad(func(i)[2], 0, L[i])[0] for i in range(len(L))])\n",
    "    Iwa = t*np.sum([quad(func(i)[3], 0, L[i])[0] for i in range(len(L))])\n",
    "    Iha = t*np.sum([quad(func(i)[4], 0, L[i])[0] for i in range(len(L))])\n",
    "    return w, Qwa, Ixwa, Iywa, Iwa, Iha"
   ]
  },
  {
   "cell_type": "markdown",
   "id": "4d24e183",
   "metadata": {},
   "source": [
    "# Função de Definição das Propriedades Da Seção"
   ]
  },
  {
   "cell_type": "code",
   "execution_count": 11,
   "id": "ae673a79",
   "metadata": {},
   "outputs": [],
   "source": [
    "def Sec_prop(Nodes, t):\n",
    "    # Cálculo das coordenadas do centroide\n",
    "    c = Centroide(Nodes)\n",
    "    # Levando todos os pontos para o eixo de coordenadas do centroide\n",
    "    New = Nodes - c\n",
    "    # Cálculo das Inércias e Inércias setoriais no eixo do centroide\n",
    "    A_sec, J, Ix, Iy, Ixy, xc, yc = Inercia(New, t)\n",
    "    w, Qwa, Ixwa, Iywa, Iwa, Iha = Inercias_setoriais(New, t, -c[0], -c[1])  # polo escolhido será o (0,0) do eixo global\n",
    "    # Cálculo das coordenadas do Centro de Cisalhamento no eixo do centroide\n",
    "    x_cis_c = -(Ixy*Ixwa-Iy*Iywa)/(Ix*Iy-Ixy**2)-c[0]\n",
    "    y_cis_c = -(Ix*Ixwa-Ixy*Iywa)/(Ix*Iy-Ixy**2)-c[1]\n",
    "    # Cálculo das Inércias Setoriais no centro de cisalhamento\n",
    "    w, Qw, Ixw, Iyw, Iw, Ih = Inercias_setoriais(New, t, x_cis_c, y_cis_c)\n",
    "    # Cálculo da Constante de Empenamento\n",
    "    Cw = Iw - (Qw**2)/A_sec - y_cis_c*Ixw + x_cis_c*Iyw\n",
    "    # Cálculo do centro de cisalhamento no eixo global\n",
    "    x_cis_g = x_cis_c + c[0]\n",
    "    y_cis_g = y_cis_c + c[1]\n",
    "    # Cálculo do ângulo dos eixos principais\n",
    "    phi = np.arctan(-(2*Ixy)/(Ix - Iy))/2\n",
    "    # Cálculo das Inércias Principais\n",
    "    I1 = (Ix+Iy)/2 + (1/2) * np.sqrt((Ix-Iy)**2 + 4*Ixy**2)\n",
    "    I2 = (Ix+Iy)/2 - (1/2) * np.sqrt((Ix-Iy)**2 + 4*Ixy**2)\n",
    "    # Cálculo do raio de giração polar da seção bruta em relação ao centro de cisalhamento\n",
    "    x0 = abs(c[0] - x_cis_g)\n",
    "    y0 = abs(c[1] - y_cis_g)\n",
    "    r0 = np.sqrt((Ix+Iy)/A_sec + x0**2 + y0**2)\n",
    "    # Cálculo do Módulo de resistência elástico da seção bruta em relação aos eixos X e Y\n",
    "    with np.errstate(divide='ignore'):\n",
    "        Wx = Ix/(np.max(np.abs(Nodes[:, 1]-c[1])))\n",
    "        Wy = Iy/(np.max(np.abs(Nodes[:, 0]-c[0])))\n",
    "    # Cálculo do Módulo de resistência elástico da seção bruta em relação aos eixos principais \n",
    "    M_rotation = np.array([[np.cos(phi), -np.sin(phi)], [np.sin(phi), np.cos(phi)]])\n",
    "    Nodes_prin = np.array([np.matmul(M_rotation, New[i]) for i in range(len(New))])\n",
    "    with np.errstate(divide='ignore'):\n",
    "        W1 = I1/(np.max(np.abs(Nodes_prin[:, 1])))\n",
    "        W2 = I2/(np.max(np.abs(Nodes_prin[:, 0])))\n",
    "    return A_sec, J, Ix, Iy, Ixy, c, Cw, np.degrees(phi), I1, I2, x0, y0, r0, Wx, Wy, W1, W2, [x_cis_g, y_cis_g]"
   ]
  },
  {
   "cell_type": "markdown",
   "id": "d5fc60ec",
   "metadata": {},
   "source": [
    "# Conclusão"
   ]
  },
  {
   "cell_type": "code",
   "execution_count": 12,
   "id": "575d6e65",
   "metadata": {
    "cell_style": "center"
   },
   "outputs": [],
   "source": [
    "Nodes = np.array([\n",
    "    #  unit = mm\n",
    "    #  [X coord, Y coord]\n",
    "    [67.300, 83.650],\n",
    "    [67.300, 90.475],\n",
    "    [67.300, 97.300],\n",
    "    [50.475, 97.300],\n",
    "    [33.650, 97.300],\n",
    "    [16.825, 97.300],\n",
    "    [0.000, 97.300],\n",
    "    [0.000, 81.083],\n",
    "    [0.000, 64.867],\n",
    "    [0.000, 48.650],\n",
    "    [0.000, 32.433],\n",
    "    [0.000, 16.217],\n",
    "    [0.000, 0.000],\n",
    "    [16.825, 0.000],\n",
    "    [33.650, 0.000],\n",
    "    [50.475, 0.000],\n",
    "    [67.300, 0.000],\n",
    "    [67.300, 6.825],\n",
    "    [67.300, 13.650]])\n",
    "t = 2.7  # thickness"
   ]
  },
  {
   "cell_type": "code",
   "execution_count": 13,
   "id": "9bd67702",
   "metadata": {
    "cell_style": "split",
    "code_folding": [],
    "hide_input": true,
    "scrolled": false
   },
   "outputs": [
    {
     "name": "stdout",
     "output_type": "stream",
     "text": [
      "\n",
      "    Área da Seção (mm): 699.84\n",
      "    Constante Torcional (mm⁴): 1700.611\n",
      "    Ix (mm⁴): 1197721.703\n",
      "    Iy (mm⁴): 460514.231\n",
      "    Ixy (mm): -0.0\n",
      "    x centro de torção (mm): -33.71\n",
      "    y centro de torção (mm): 48.63\n",
      "    Constante de Empenamento: 970246475.829\n",
      "    Wx (mm³): 24619.151\n",
      "    Wy (mm³): 10775.394\n",
      "    -------------------------------------------\n",
      "    x centroide (mm): 24.56\n",
      "    y centroide (mm): 48.65\n",
      "    I1 (mm⁴): 1197721.703\n",
      "    I2 (mm⁴): 460514.231\n",
      "    θ (°): 0.0\n",
      "    x0 (mm): 58.27\n",
      "    y0 (mm): 0.02\n",
      "    r0 (mm): 75.93\n",
      "    W1 (mm³): 24619.151\n",
      "    W2 (mm³): 10775.394\n",
      "    \n"
     ]
    }
   ],
   "source": [
    "def report(Nodes,t):\n",
    "    A_sec, J, Ix, Iy, Ixy, c, Cw, phi, I1, I2, x0, y0, r0, Wx, Wy, W1, W2, cis = Sec_prop(Nodes, t)\n",
    "    print(f'''\n",
    "    Área da Seção (mm): {round(A_sec,2)}\n",
    "    Constante Torcional (mm⁴): {round(J,3)}\n",
    "    Ix (mm⁴): {round(Ix,3)}\n",
    "    Iy (mm⁴): {round(Iy,3)}\n",
    "    Ixy (mm): {round(Ixy,3)}\n",
    "    x centro de torção (mm): {round(cis[0],2)}\n",
    "    y centro de torção (mm): {round(cis[1],2)}\n",
    "    Constante de Empenamento: {round(Cw,3)}\n",
    "    Wx (mm³): {round(Wx,3)}\n",
    "    Wy (mm³): {round(Wy,3)}\n",
    "    -------------------------------------------\n",
    "    x centroide (mm): {round(c[0],2)}\n",
    "    y centroide (mm): {round(c[1],2)}\n",
    "    I1 (mm⁴): {round(I1,3)}\n",
    "    I2 (mm⁴): {round(I2,3)}\n",
    "    θ (°): {round(phi,2)}\n",
    "    x0 (mm): {round(x0,2)}\n",
    "    y0 (mm): {round(y0,2)}\n",
    "    r0 (mm): {round(r0,3)}\n",
    "    W1 (mm³): {round(W1,3)}\n",
    "    W2 (mm³): {round(W2,3)}\n",
    "    ''')\n",
    "report(Nodes,t)"
   ]
  },
  {
   "cell_type": "code",
   "execution_count": 14,
   "id": "ebff314a",
   "metadata": {
    "cell_style": "split",
    "hide_input": true,
    "scrolled": false
   },
   "outputs": [
    {
     "data": {
      "image/png": "[encoded data removed]",
      "text/plain": [
       "<Figure size 800x800 with 1 Axes>"
      ]
     },
     "metadata": {},
     "output_type": "display_data"
    }
   ],
   "source": [
    "def plot(Nodes, t):\n",
    "    _, _, _, _, _, c_coord, _, _, _, _, _, _, _, _, _, _, _, cis_coord = Sec_prop(Nodes, t)\n",
    "    plt.figure(figsize=(8, 8))\n",
    "    plt.plot(Nodes[:, 0], Nodes[:, 1], marker=\"o\", label=\"Nós da Seção\")\n",
    "    plt.gca().set_aspect('equal')\n",
    "    plt.scatter(c_coord[0], c_coord[1], color=\"Red\", label=\"Centroide\")\n",
    "    plt.scatter(cis_coord[0], cis_coord[1], color=\"Orange\",\n",
    "                label=\"Centro de Cisalhamento\", zorder=10)\n",
    "    plt.text(c_coord[0]+.5, c_coord[1]+.5, \"Centroide\", fontsize=12)\n",
    "    plt.text(cis_coord[0]+.5, cis_coord[1]-4, \"Cisalhamento\", fontsize=12)\n",
    "    for i in range(0, len(Nodes)):\n",
    "        plt.text(Nodes[i, 0]+.5, Nodes[i, 1]+.5, i, fontsize=12)\n",
    "    return\n",
    "\n",
    "\n",
    "plot(Nodes, t)"
   ]
  },
  {
   "cell_type": "markdown",
   "id": "4d9bf421",
   "metadata": {
    "cell_style": "center"
   },
   "source": [
    "# Questão 1"
   ]
  },
  {
   "cell_type": "markdown",
   "id": "31d166f9",
   "metadata": {},
   "source": [
    "## a) Perfil Cantoneira de abas desiguais L100x50x2 (mm)"
   ]
  },
  {
   "cell_type": "code",
   "execution_count": 15,
   "id": "96311582",
   "metadata": {},
   "outputs": [],
   "source": [
    "Nodes = np.array([\n",
    "    #  unit = mm\n",
    "    #  [X coord, Y coord]\n",
    "    [0.0000, 100.0000],\n",
    "    [0.0000, 83.3333],\n",
    "    [0.0000, 66.6667],\n",
    "    [0.0000, 50.0000],\n",
    "    [0.0000, 33.3333],\n",
    "    [0.0000, 16.6667],\n",
    "    [0.0000, 0.0000],\n",
    "    [12.5000, 0.0000],\n",
    "    [25.0000, 0.0000],\n",
    "    [37.5000, 0.0000],\n",
    "    [50.0000, 0.0000]])\n",
    "t = 2.0  # thickness"
   ]
  },
  {
   "cell_type": "code",
   "execution_count": 16,
   "id": "b511f818",
   "metadata": {
    "cell_style": "split",
    "hide_input": true
   },
   "outputs": [
    {
     "name": "stdout",
     "output_type": "stream",
     "text": [
      "\n",
      "    Área da Seção (mm): 300.0\n",
      "    Constante Torcional (mm⁴): 400.0\n",
      "    Ix (mm⁴): 333366.667\n",
      "    Iy (mm⁴): 62566.667\n",
      "    Ixy (mm): -83333.333\n",
      "    x centro de torção (mm): 0.0\n",
      "    y centro de torção (mm): 0.0\n",
      "    Constante de Empenamento: 0.0\n",
      "    Wx (mm³): 5000.5\n",
      "    Wy (mm³): 1501.6\n",
      "    -------------------------------------------\n",
      "    x centroide (mm): 8.33\n",
      "    y centroide (mm): 33.33\n",
      "    I1 (mm⁴): 356955.988\n",
      "    I2 (mm⁴): 38977.345\n",
      "    θ (°): 15.81\n",
      "    x0 (mm): 8.33\n",
      "    y0 (mm): 33.33\n",
      "    r0 (mm): 50.003\n",
      "    W1 (mm³): 5768.852\n",
      "    W2 (mm³): 792.7\n",
      "    \n"
     ]
    }
   ],
   "source": [
    "report(Nodes,t)"
   ]
  },
  {
   "cell_type": "code",
   "execution_count": 17,
   "id": "d521bc2a",
   "metadata": {
    "cell_style": "split",
    "hide_input": true,
    "scrolled": false
   },
   "outputs": [
    {
     "data": {
      "image/png": "[encoded data removed]",
      "text/plain": [
       "<Figure size 800x800 with 1 Axes>"
      ]
     },
     "metadata": {},
     "output_type": "display_data"
    }
   ],
   "source": [
    "plot(Nodes, t)"
   ]
  },
  {
   "cell_type": "code",
   "execution_count": null,
   "id": "2e64d4a4",
   "metadata": {},
   "outputs": [],
   "source": []
  },
  {
   "cell_type": "markdown",
   "id": "1d78e744",
   "metadata": {},
   "source": [
    "## b) Perfil Ue 200x100x20x2 (mm)"
   ]
  },
  {
   "cell_type": "code",
   "execution_count": 18,
   "id": "d2302c86",
   "metadata": {},
   "outputs": [],
   "source": [
    "Nodes = np.array([\n",
    "    #  unit = mm\n",
    "    #  [X coord, Y coord]\n",
    "    [100.0000, 180.0000],\n",
    "    [100.0000, 190.0000],\n",
    "    [100.0000, 200.0000],\n",
    "    [83.3333, 200.0000],\n",
    "    [66.6667, 200.0000],\n",
    "    [50.0000, 200.0000],\n",
    "    [33.3333, 200.0000],\n",
    "    [16.6667, 200.0000],\n",
    "    [0.0000, 200.0000],\n",
    "    [0.0000, 175.0000],\n",
    "    [0.0000, 150.0000],\n",
    "    [0.0000, 125.0000],\n",
    "    [0.0000, 100.0000],\n",
    "    [0.0000, 75.0000],\n",
    "    [0.0000, 50.0000],\n",
    "    [0.0000, 25.0000],\n",
    "    [0.0000, 0.0000],\n",
    "    [16.6667,  0.0000],\n",
    "    [33.3333,  0.0000],\n",
    "    [50.0000,  0.0000],\n",
    "    [66.6667,  0.0000],\n",
    "    [83.3333,  0.0000],\n",
    "    [100.0000, 0.0000],\n",
    "    [100.0000, 10.0000],\n",
    "    [100.0000, 20.0000]])\n",
    "t = 2.0  # thickness"
   ]
  },
  {
   "cell_type": "code",
   "execution_count": 19,
   "id": "e754d144",
   "metadata": {
    "cell_style": "split",
    "hide_input": true,
    "scrolled": false
   },
   "outputs": [
    {
     "name": "stdout",
     "output_type": "stream",
     "text": [
      "\n",
      "    Área da Seção (mm): 880.0\n",
      "    Constante Torcional (mm⁴): 1173.333\n",
      "    Ix (mm⁴): 5984133.333\n",
      "    Iy (mm⁴): 1242584.242\n",
      "    Ixy (mm): 0.0\n",
      "    x centro de torção (mm): -46.61\n",
      "    y centro de torção (mm): 99.99\n",
      "    Constante de Empenamento: 10038514779.488\n",
      "    Wx (mm³): 59841.333\n",
      "    Wy (mm³): 18224.569\n",
      "    -------------------------------------------\n",
      "    x centroide (mm): 31.82\n",
      "    y centroide (mm): 100.0\n",
      "    I1 (mm⁴): 5984133.333\n",
      "    I2 (mm⁴): 1242584.242\n",
      "    θ (°): -0.0\n",
      "    x0 (mm): 78.43\n",
      "    y0 (mm): 0.01\n",
      "    r0 (mm): 119.848\n",
      "    W1 (mm³): 59841.333\n",
      "    W2 (mm³): 18224.569\n",
      "    \n"
     ]
    }
   ],
   "source": [
    "report(Nodes,t)"
   ]
  },
  {
   "cell_type": "code",
   "execution_count": 20,
   "id": "bb8f7b50",
   "metadata": {
    "cell_style": "split",
    "hide_input": true,
    "scrolled": false
   },
   "outputs": [
    {
     "data": {
      "image/png": "[encoded data removed]",
      "text/plain": [
       "<Figure size 800x800 with 1 Axes>"
      ]
     },
     "metadata": {},
     "output_type": "display_data"
    }
   ],
   "source": [
    "plot(Nodes, t)"
   ]
  },
  {
   "cell_type": "code",
   "execution_count": null,
   "id": "e80e61f3",
   "metadata": {},
   "outputs": [],
   "source": []
  },
  {
   "cell_type": "markdown",
   "id": "a698378b",
   "metadata": {},
   "source": [
    "## c) Perfil Rack 100x30x20x25x2 ângulo de 60º (mm)"
   ]
  },
  {
   "cell_type": "code",
   "execution_count": 21,
   "id": "89fabd66",
   "metadata": {},
   "outputs": [],
   "source": [
    "Nodes = np.array([\n",
    "    #  unit = mm\n",
    "    #  [X coord, Y coord]\n",
    "    [65.0000, 82.6795],\n",
    "    [52.5000, 82.6795],\n",
    "    [40.0000, 82.6795],\n",
    "    [35.0000, 91.3397],\n",
    "    [30.0000, 100.0000],\n",
    "    [22.5000, 100.0000],\n",
    "    [15.0000, 100.0000],\n",
    "    [7.5000, 100.0000],\n",
    "    [0.0000, 100.0000],\n",
    "    [0.0000, 83.3333],\n",
    "    [0.0000, 66.6667],\n",
    "    [0.0000, 50.0000],\n",
    "    [0.0000, 33.3333],\n",
    "    [0.0000, 16.6667],\n",
    "    [0.0000, 0.0000],\n",
    "    [7.5000, 0.0000],\n",
    "    [15.0000, 0.0000],\n",
    "    [22.5000, 0.0000],\n",
    "    [30.0000, 0.0000],\n",
    "    [35.0000, 8.6603],\n",
    "    [40.0000, 17.3205],\n",
    "    [52.5000, 17.3205],\n",
    "    [65.0000, 17.3205]])\n",
    "t = 2.0  # thickness"
   ]
  },
  {
   "cell_type": "code",
   "execution_count": 22,
   "id": "e384917a",
   "metadata": {
    "cell_style": "split",
    "hide_input": true,
    "scrolled": false
   },
   "outputs": [
    {
     "name": "stdout",
     "output_type": "stream",
     "text": [
      "\n",
      "    Área da Seção (mm): 500.0\n",
      "    Constante Torcional (mm⁴): 666.667\n",
      "    Ix (mm⁴): 712259.541\n",
      "    Iy (mm⁴): 221541.633\n",
      "    Ixy (mm): 0.0\n",
      "    x centro de torção (mm): -28.92\n",
      "    y centro de torção (mm): 49.98\n",
      "    Constante de Empenamento: 687389741.202\n",
      "    Wx (mm³): 14245.191\n",
      "    Wy (mm³): 4890.544\n",
      "    -------------------------------------------\n",
      "    x centroide (mm): 19.7\n",
      "    y centroide (mm): 50.0\n",
      "    I1 (mm⁴): 712259.541\n",
      "    I2 (mm⁴): 221541.633\n",
      "    θ (°): -0.0\n",
      "    x0 (mm): 48.62\n",
      "    y0 (mm): 0.02\n",
      "    r0 (mm): 65.049\n",
      "    W1 (mm³): 14245.191\n",
      "    W2 (mm³): 4890.544\n",
      "    \n"
     ]
    }
   ],
   "source": [
    "report(Nodes,t)"
   ]
  },
  {
   "cell_type": "code",
   "execution_count": 23,
   "id": "8fd64f22",
   "metadata": {
    "cell_style": "split",
    "hide_input": true,
    "scrolled": false
   },
   "outputs": [
    {
     "data": {
      "image/png": "[encoded data removed]",
      "text/plain": [
       "<Figure size 800x800 with 1 Axes>"
      ]
     },
     "metadata": {},
     "output_type": "display_data"
    }
   ],
   "source": [
    "plot(Nodes, t)"
   ]
  },
  {
   "cell_type": "code",
   "execution_count": null,
   "id": "6301fb5c",
   "metadata": {},
   "outputs": [],
   "source": []
  },
  {
   "cell_type": "markdown",
   "id": "1552d0eb",
   "metadata": {},
   "source": [
    "## d) Perfil Assimétrico"
   ]
  },
  {
   "cell_type": "code",
   "execution_count": 24,
   "id": "bd909f71",
   "metadata": {},
   "outputs": [],
   "source": [
    "Nodes = np.array([\n",
    "    #  unit = mm\n",
    "    #  [X coord, Y coord]\n",
    "    [50.0000, 120.0000],\n",
    "    [50.0000, 135.0000],\n",
    "    [50.0000, 150.0000],\n",
    "    [37.5000, 150.0000],\n",
    "    [25.0000, 150.0000],\n",
    "    [12.5000, 150.0000],\n",
    "    [0.0000, 150.0000],\n",
    "    [0.0000, 131.2500],\n",
    "    [0.0000, 112.5000],\n",
    "    [0.0000, 93.7500],\n",
    "    [0.0000, 75.0000],\n",
    "    [0.0000, 56.2500],\n",
    "    [0.0000, 37.5000],\n",
    "    [0.0000, 18.7500],\n",
    "    [0.0000, 0.0000],\n",
    "    [15.0000, 0.0000],\n",
    "    [30.0000, 0.0000],\n",
    "    [30.0000, 12.5000],\n",
    "    [30.0000, 25.0000]])\n",
    "t = 2.0  # thickness"
   ]
  },
  {
   "cell_type": "code",
   "execution_count": 25,
   "id": "4b833779",
   "metadata": {
    "cell_style": "split",
    "hide_input": true,
    "scrolled": false
   },
   "outputs": [
    {
     "name": "stdout",
     "output_type": "stream",
     "text": [
      "\n",
      "    Área da Seção (mm): 570.0\n",
      "    Constante Torcional (mm⁴): 760.0\n",
      "    Ix (mm⁴): 1859784.693\n",
      "    Iy (mm⁴): 186978.772\n",
      "    Ixy (mm): 158087.719\n",
      "    x centro de torção (mm): -18.81\n",
      "    y centro de torção (mm): 117.21\n",
      "    Constante de Empenamento: 783248880.211\n",
      "    Wx (mm³): 22932.986\n",
      "    Wy (mm³): 5173.684\n",
      "    -------------------------------------------\n",
      "    x centroide (mm): 13.86\n",
      "    y centroide (mm): 81.1\n",
      "    I1 (mm⁴): 1874593.598\n",
      "    I2 (mm⁴): 172169.867\n",
      "    θ (°): -5.35\n",
      "    x0 (mm): 32.67\n",
      "    y0 (mm): 36.12\n",
      "    r0 (mm): 77.216\n",
      "    W1 (mm³): 22791.865\n",
      "    W2 (mm³): 4059.726\n",
      "    \n"
     ]
    }
   ],
   "source": [
    "report(Nodes,t)"
   ]
  },
  {
   "cell_type": "code",
   "execution_count": 26,
   "id": "6d8dd733",
   "metadata": {
    "cell_style": "split",
    "hide_input": true,
    "scrolled": false
   },
   "outputs": [
    {
     "data": {
      "image/png": "[encoded data removed]",
      "text/plain": [
       "<Figure size 800x800 with 1 Axes>"
      ]
     },
     "metadata": {},
     "output_type": "display_data"
    }
   ],
   "source": [
    "plot(Nodes, t)"
   ]
  },
  {
   "cell_type": "markdown",
   "id": "f8aa6aa5",
   "metadata": {},
   "source": [
    "## Conclusão\n",
    "\n",
    "Podemos notar que os resultados concordam com os apresentados pelo "
   ]
  },
  {
   "cell_type": "markdown",
   "id": "6c286472",
   "metadata": {},
   "source": [
    "# Questão 2"
   ]
  },
  {
   "cell_type": "markdown",
   "id": "a7b93469",
   "metadata": {},
   "source": [
    "## a) "
   ]
  },
  {
   "cell_type": "markdown",
   "id": "d58a14a7",
   "metadata": {},
   "source": [
    "<img src=\"Images/RackGeom.jpg\" width=600/>\n",
    "<img src=\"Images/Rack1.jpg\" width=600/>\n",
    "<img src=\"Images/Rack2.jpg\" width=600/>\n",
    "<img src=\"Images/Rack3.jpg\" width=600/>"
   ]
  },
  {
   "cell_type": "code",
   "execution_count": null,
   "id": "4b1fba7a",
   "metadata": {},
   "outputs": [],
   "source": []
  }
 ],
 "metadata": {
  "kernelspec": {
   "display_name": "Python 3 (ipykernel)",
   "language": "python",
   "name": "python3"
  },
  "language_info": {
   "codemirror_mode": {
    "name": "ipython",
    "version": 3
   },
   "file_extension": ".py",
   "mimetype": "text/x-python",
   "name": "python",
   "nbconvert_exporter": "python",
   "pygments_lexer": "ipython3",
   "version": "3.9.15"
  },
  "latex_envs": {
   "LaTeX_envs_menu_present": true,
   "autoclose": false,
   "autocomplete": true,
   "bibliofile": "biblio.bib",
   "cite_by": "apalike",
   "current_citInitial": 1,
   "eqLabelWithNumbers": true,
   "eqNumInitial": 1,
   "hotkeys": {
    "equation": "Ctrl-E",
    "itemize": "Ctrl-I"
   },
   "labels_anchors": false,
   "latex_user_defs": false,
   "report_style_numbering": false,
   "user_envs_cfg": false
  },
  "toc": {
   "base_numbering": 1,
   "nav_menu": {},
   "number_sections": true,
   "sideBar": true,
   "skip_h1_title": false,
   "title_cell": "Table of Contents",
   "title_sidebar": "Indicies",
   "toc_cell": true,
   "toc_position": {
    "height": "calc(100% - 180px)",
    "left": "10px",
    "top": "150px",
    "width": "268px"
   },
   "toc_section_display": true,
   "toc_window_display": true
  },
  "varInspector": {
   "cols": {
    "lenName": 16,
    "lenType": 16,
    "lenVar": 40
   },
   "kernels_config": {
    "python": {
     "delete_cmd_postfix": "",
     "delete_cmd_prefix": "del ",
     "library": "var_list.py",
     "varRefreshCmd": "print(var_dic_list())"
    },
    "r": {
     "delete_cmd_postfix": ") ",
     "delete_cmd_prefix": "rm(",
     "library": "var_list.r",
     "varRefreshCmd": "cat(var_dic_list()) "
    }
   },
   "types_to_exclude": [
    "module",
    "function",
    "builtin_function_or_method",
    "instance",
    "_Feature"
   ],
   "window_display": false
  }
 },
 "nbformat": 4,
 "nbformat_minor": 5
}
